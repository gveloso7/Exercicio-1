{
  "nbformat": 4,
  "nbformat_minor": 0,
  "metadata": {
    "colab": {
      "provenance": [],
      "authorship_tag": "ABX9TyP55SVNabFnMY/JgkXc46oa",
      "include_colab_link": true
    },
    "kernelspec": {
      "name": "python3",
      "display_name": "Python 3"
    },
    "language_info": {
      "name": "python"
    }
  },
  "cells": [
    {
      "cell_type": "markdown",
      "metadata": {
        "id": "view-in-github",
        "colab_type": "text"
      },
      "source": [
        "<a href=\"https://colab.research.google.com/github/gveloso7/Exercicio-1/blob/master/Exercicio3.ipynb\" target=\"_parent\"><img src=\"https://colab.research.google.com/assets/colab-badge.svg\" alt=\"Open In Colab\"/></a>"
      ]
    },
    {
      "cell_type": "code",
      "execution_count": null,
      "metadata": {
        "id": "7kk744WLQ6hA"
      },
      "outputs": [],
      "source": [
        "!pip install pydataset\n",
        "\n",
        "import pandas as pd\n",
        "from pydataset import data\n",
        "df = data('HairEyeColor')\n"
      ]
    },
    {
      "cell_type": "markdown",
      "source": [
        "1. Calcule o número total de pessoas para cada combinação de cor de\n",
        "cabelo (Hair) e cor dos olhos (Eye).\n"
      ],
      "metadata": {
        "id": "hCsYbaq_jNhR"
      }
    },
    {
      "cell_type": "code",
      "source": [
        "combinacao  = df.groupby(['Hair', 'Eye'])['Freq'].sum().reset_index()\n",
        "print(combinacao)"
      ],
      "metadata": {
        "colab": {
          "base_uri": "https://localhost:8080/"
        },
        "id": "2pQTKaXr2V_t",
        "outputId": "11d826a1-2e5a-44a1-d3c2-cc1be103777f"
      },
      "execution_count": 49,
      "outputs": [
        {
          "output_type": "stream",
          "name": "stdout",
          "text": [
            "     Hair    Eye  Freq\n",
            "0   Black   Blue    20\n",
            "1   Black  Brown    68\n",
            "2   Black  Green     5\n",
            "3   Black  Hazel    15\n",
            "4   Blond   Blue    94\n",
            "5   Blond  Brown     7\n",
            "6   Blond  Green    16\n",
            "7   Blond  Hazel    10\n",
            "8   Brown   Blue    84\n",
            "9   Brown  Brown   119\n",
            "10  Brown  Green    29\n",
            "11  Brown  Hazel    54\n",
            "12    Red   Blue    17\n",
            "13    Red  Brown    26\n",
            "14    Red  Green    14\n",
            "15    Red  Hazel    14\n"
          ]
        }
      ]
    },
    {
      "cell_type": "markdown",
      "source": [
        "2. Encontre a cor de cabelo mais comum entre pessoas com olhos\n",
        "castanhos (Brown)."
      ],
      "metadata": {
        "id": "UBYdQnWQ5RBR"
      }
    },
    {
      "cell_type": "code",
      "source": [
        "olhos_castanhos = df[df['Eye'] == 'Brown'].groupby('Hair')['Freq'].sum().idxmax()\n",
        "print(f\"\\nA cor de caeblo mais comum entre pessoas com olhos castanhos é:  {olhos_castanhos}\")"
      ],
      "metadata": {
        "colab": {
          "base_uri": "https://localhost:8080/"
        },
        "id": "jchMHe1d6uYc",
        "outputId": "880462df-8ddb-4db9-82c9-2afdd492914c"
      },
      "execution_count": 61,
      "outputs": [
        {
          "output_type": "stream",
          "name": "stdout",
          "text": [
            "\n",
            "A cor de caeblo mais comum entre pessoas com olhos castanhos é:  Brown\n"
          ]
        }
      ]
    },
    {
      "cell_type": "markdown",
      "source": [
        "3. Crie uma tabela com a contagem total de pessoas por cor de cabelo"
      ],
      "metadata": {
        "id": "9U1Wsu8S-LS4"
      }
    },
    {
      "cell_type": "code",
      "source": [
        "contagem_total = df.groupby('Hair')['Freq'].sum().reset_index()\n",
        "print(contagem_total)"
      ],
      "metadata": {
        "colab": {
          "base_uri": "https://localhost:8080/"
        },
        "id": "YszPygfq-PDt",
        "outputId": "b4d1321b-7d06-4bc1-9353-0c9714779793"
      },
      "execution_count": 65,
      "outputs": [
        {
          "output_type": "stream",
          "name": "stdout",
          "text": [
            "    Hair  Freq\n",
            "0  Black   108\n",
            "1  Blond   127\n",
            "2  Brown   286\n",
            "3    Red    71\n"
          ]
        }
      ]
    }
  ]
}